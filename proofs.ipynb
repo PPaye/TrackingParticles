{
 "cells": [
  {
   "cell_type": "markdown",
   "metadata": {},
   "source": [
    "# SWITCH."
   ]
  },
  {
   "cell_type": "markdown",
   "metadata": {},
   "source": [
    "I have to implement three kind of switchs to see whats happening on the code.\n",
    "\n",
    "hit precision: is res_x, res_y, res_z, res_t (i.e. RESolution)\n",
    "\n",
    "For the beam spread, if you need variables, you can use PVspread_x, PVspread_y etc"
   ]
  },
  {
   "cell_type": "code",
   "execution_count": 10,
   "metadata": {},
   "outputs": [],
   "source": [
    "cuts = [ \"circle\", \"rectangle\", \"theta_scatter\",  \"PVspread_z\", \"dx_plus_dy\"]"
   ]
  },
  {
   "cell_type": "code",
   "execution_count": 12,
   "metadata": {},
   "outputs": [],
   "source": [
    "def SWITCH(cut): # cleanen the code\n",
    "    if cut == \"circle\" :\n",
    "        print(\"circle cut is founded: \")\n",
    "    elif cut == \"rectangle\" :\n",
    "        print(\"rectangle cut is founded: \")\n",
    "    elif cut == \"theta_scatter\" :\n",
    "        print(\"theta_scatter cut is founded: \") \n",
    "    elif cut == \"theta_scatter\" :\n",
    "        print(\" PV cut is founded: \") \n",
    "    elif cut == \"PVspread_z\" :\n",
    "        print(\"PVspread_z\")\n",
    "    elif cut == \"dx_plus_dy\" :\n",
    "        print(\"dx_plus_dy\")"
   ]
  },
  {
   "cell_type": "code",
   "execution_count": null,
   "metadata": {},
   "outputs": [],
   "source": []
  },
  {
   "cell_type": "code",
   "execution_count": null,
   "metadata": {},
   "outputs": [],
   "source": []
  },
  {
   "cell_type": "code",
   "execution_count": null,
   "metadata": {},
   "outputs": [],
   "source": []
  },
  {
   "cell_type": "code",
   "execution_count": 13,
   "metadata": {},
   "outputs": [
    {
     "name": "stdout",
     "output_type": "stream",
     "text": [
      "PVspread_z\n"
     ]
    }
   ],
   "source": [
    "SWITCH(\"PVspread_z\")"
   ]
  }
 ],
 "metadata": {
  "kernelspec": {
   "display_name": "Python 3",
   "language": "python",
   "name": "python3"
  },
  "language_info": {
   "codemirror_mode": {
    "name": "ipython",
    "version": 3
   },
   "file_extension": ".py",
   "mimetype": "text/x-python",
   "name": "python",
   "nbconvert_exporter": "python",
   "pygments_lexer": "ipython3",
   "version": "3.7.3"
  }
 },
 "nbformat": 4,
 "nbformat_minor": 2
}
