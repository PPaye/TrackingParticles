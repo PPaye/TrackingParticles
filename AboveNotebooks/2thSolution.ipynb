{
 "cells": [
  {
   "cell_type": "markdown",
   "metadata": {},
   "source": [
    "# In this notebook I will develope another solution to find the tracks of particles\n",
    "## Essentially the solution is inspired in the algorithm of:\n",
    "###  A Density-Based Algorithm for Discovering Clusters in Large Spatial Databases with Noise. \n",
    "## Basically the algorithm will be presented then."
   ]
  },
  {
   "cell_type": "markdown",
   "metadata": {},
   "source": [
    "# Description of the algorithm DBSCAN. \n",
    "\n",
    "We choose an arbitrary point $p$ and we collect all density-reachable points. "
   ]
  },
  {
   "cell_type": "markdown",
   "metadata": {},
   "source": [
    "# Now I am doing another work\n"
   ]
  },
  {
   "cell_type": "markdown",
   "metadata": {},
   "source": []
  }
 ],
 "metadata": {
  "kernelspec": {
   "display_name": "Python 3",
   "language": "python",
   "name": "python3"
  },
  "language_info": {
   "codemirror_mode": {
    "name": "ipython",
    "version": 3
   },
   "file_extension": ".py",
   "mimetype": "text/x-python",
   "name": "python",
   "nbconvert_exporter": "python",
   "pygments_lexer": "ipython3",
   "version": "3.7.3"
  }
 },
 "nbformat": 4,
 "nbformat_minor": 2
}
