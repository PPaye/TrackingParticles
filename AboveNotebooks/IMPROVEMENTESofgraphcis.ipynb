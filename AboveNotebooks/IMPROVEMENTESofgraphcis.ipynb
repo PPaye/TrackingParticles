{
 "cells": [
  {
   "cell_type": "markdown",
   "metadata": {},
   "source": [
    "# Improvement of the GRAPHICS"
   ]
  },
  {
   "cell_type": "code",
   "execution_count": null,
   "metadata": {},
   "outputs": [],
   "source": [
    "import pandas as pd\n",
    "import numpy as np\n",
    "import matplotlib.pyplot as plt\n",
    "import matplotlib\n",
    "%matplotlib inline\n",
    "from split import *\n",
    "from score import *"
   ]
  },
  {
   "cell_type": "code",
   "execution_count": null,
   "metadata": {},
   "outputs": [],
   "source": [
    "# TO READ DATA\n",
    "def reading_data(fraction):\n",
    "    name = 'data/RAMPData55microns50psInner200microns50psOuter_train.txt' # To be modified for others. \n",
    "    data_fraction = fraction\n",
    "\n",
    "    df = pd.DataFrame()\n",
    "    df = pd.read_csv(name, sep=' ') # All data.\n",
    "    df,_ = Split_frac(df, data_fraction)\n",
    "    return df    "
   ]
  },
  {
   "cell_type": "code",
   "execution_count": null,
   "metadata": {},
   "outputs": [],
   "source": [
    "# NECESSARY FUNCTIONS\n",
    "def rho(x,y):\n",
    "    return np.sqrt(x*x + y*y)\n",
    "def r(x,y,z):\n",
    "    return np.sqrt(x*x + y*y + z*z)\n",
    "def theta(x,y,z):\n",
    "    return np.arccos(z/r(x,y,z))\n",
    "def phi(x,y):\n",
    "    return np.arctan(y/x)"
   ]
  },
  {
   "cell_type": "code",
   "execution_count": null,
   "metadata": {},
   "outputs": [],
   "source": [
    "def correct_time(hit_time, x, y, z):\n",
    "    c = 0.299792 #[cm/ps] Light Velocity in [centimeters & pico seconds]\n",
    "    travel_time = np.sqrt(x*x + y*y + z*z)/c\n",
    "    return hit_time - travel_time"
   ]
  },
  {
   "cell_type": "code",
   "execution_count": null,
   "metadata": {},
   "outputs": [],
   "source": [
    "# GRAPHIC OF PLOTS\n",
    "def time_plot(df):\n",
    "    # Here, time is corrected by a substraction.\n",
    "    plt.figure(figsize=(15, 15))\n",
    "    for particle_id in np.unique(df['particle_id'].values[1:100]):\n",
    "        track_id = df.query(f'particle_id == {particle_id}')\n",
    "        plt.plot(track_id['theta'], track_id['t_c'], '.' )\n",
    "        plt.xlabel(r\"$\\theta$\")\n",
    "        plt.ylabel(r'$t$')\n",
    "    plt.figure(figsize=(20, 20))\n",
    "    for particle_id in np.unique(df['particle_id'].values[1:100]):\n",
    "        track_id = df.query(f'particle_id == {particle_id}')\n",
    "        plt.plot(track_id['phi'], track_id['t_c'], '.' )\n",
    "        plt.xlabel(r\"$\\phi$\")\n",
    "        plt.ylabel(r'$t$')"
   ]
  },
  {
   "cell_type": "code",
   "execution_count": null,
   "metadata": {},
   "outputs": [],
   "source": [
    "# Reading DATA \n",
    "fraction = 0.004\n",
    "df = reading_data(fraction) ;"
   ]
  },
  {
   "cell_type": "code",
   "execution_count": null,
   "metadata": {},
   "outputs": [],
   "source": [
    "# main\n",
    "df['theta'] = df.apply(lambda row: theta(row['x'], row['y'], row['z'] ), axis=1)\n",
    "df['phi']   = df.apply(lambda row: phi  (row['x'], row['y']),   axis=1)\n",
    "df['t_c']   = correct_time(df['t'],df['x'],df['y'], df['z'] )"
   ]
  },
  {
   "cell_type": "code",
   "execution_count": null,
   "metadata": {},
   "outputs": [],
   "source": []
  },
  {
   "cell_type": "markdown",
   "metadata": {},
   "source": [
    "# Computing new graphics according to corrected time.\n",
    "# Essentially what I have to compute is the sigmas associated to time theta and phi"
   ]
  },
  {
   "cell_type": "markdown",
   "metadata": {},
   "source": [
    "At first, we had supposed that all particles emerged from the origin. But it is not the real case. \n",
    "The next step is to correct the origin position due to spread out of the proton proton collision.\n",
    "\n",
    "A schematic representation can be given by the next image.\n",
    "\n",
    "The variable most affected is the theta angle. It is very sensible.\n",
    "\n",
    "Another note is important:\n",
    "The values of sigma, I meant to uncertaintieis, is computed from a simple propagation of errors. Where the uncertantities of dx dy dz and dt are given."
   ]
  },
  {
   "cell_type": "code",
   "execution_count": null,
   "metadata": {},
   "outputs": [],
   "source": [
    "import sympy as sp # this library was imported with the help of conda\n",
    "# And this library will help us to compute the errores. "
   ]
  },
  {
   "cell_type": "code",
   "execution_count": null,
   "metadata": {},
   "outputs": [],
   "source": [
    "def sigma_theta():\n",
    "    \n",
    "    # here I have to compute the derivation.\n",
    "    \n",
    "    \n",
    "    \n",
    "    \n",
    "    return 1"
   ]
  },
  {
   "cell_type": "markdown",
   "metadata": {},
   "source": [
    "# Effect of the spread out \n",
    "I can do the next. First I can agroup the particles according to its ID. then I have to identify the position such that the time be the minimum"
   ]
  },
  {
   "cell_type": "code",
   "execution_count": null,
   "metadata": {},
   "outputs": [],
   "source": [
    "# Developing the algorithm "
   ]
  },
  {
   "cell_type": "markdown",
   "metadata": {},
   "source": [
    "The algorithm was focused in the next form.\n",
    "\n",
    "iteration over df_particle_id \n",
    "then identify the index of the minimum value of time\n",
    "then "
   ]
  },
  {
   "cell_type": "code",
   "execution_count": null,
   "metadata": {},
   "outputs": [],
   "source": [
    "def identifying_r0():\n",
    "    col = df.columns.values\n",
    "    tmp_identifying_r0 = []\n",
    "    time = []\n",
    "    for particle_id in df['particle_id'].values[:]:\n",
    "        t_min = (df.query(f'particle_id == {particle_id}'))['t'].min()\n",
    "        time.append(time)\n",
    "        #list(df.query(f\"t == {t_min} \")\n",
    "        #print( df.query(f\"t == {t_min}\") )\n",
    "        tmp = (df.query(f\"t == {t_min}\").values[0])\n",
    "        tmp_identifying_r0.append(tmp)\n",
    "    df_identifying_r0 = pd.DataFrame(tmp_identifying_r0, columns=col)\n",
    "    plt.hist(time)\n",
    "    return df_identifying_r0\n",
    "df_first_particles = identifying_r0()"
   ]
  },
  {
   "cell_type": "code",
   "execution_count": null,
   "metadata": {},
   "outputs": [],
   "source": [
    "df_first_particles.plot.scatter('x','y',style=',')"
   ]
  }
 ],
 "metadata": {
  "kernelspec": {
   "display_name": "Python 3",
   "language": "python",
   "name": "python3"
  },
  "language_info": {
   "codemirror_mode": {
    "name": "ipython",
    "version": 3
   },
   "file_extension": ".py",
   "mimetype": "text/x-python",
   "name": "python",
   "nbconvert_exporter": "python",
   "pygments_lexer": "ipython3",
   "version": "3.7.3"
  }
 },
 "nbformat": 4,
 "nbformat_minor": 2
}
