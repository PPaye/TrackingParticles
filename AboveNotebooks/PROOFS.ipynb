{
 "cells": [
  {
   "cell_type": "markdown",
   "metadata": {},
   "source": [
    "# PROOFS"
   ]
  },
  {
   "cell_type": "markdown",
   "metadata": {},
   "source": [
    "Now I begin to construc a generic function to see if the score in a generic form. \n",
    "The first is that the funcion have to have parameters and return values. \n",
    "The question at this point is what kind of parameters are really important. \n",
    "\n",
    "Also, it is necessay to test the sets and generate tracks. "
   ]
  },
  {
   "cell_type": "code",
   "execution_count": 1,
   "metadata": {},
   "outputs": [],
   "source": [
    "import numpy as np\n",
    "\n",
    "def Scoring(particles, reconstructed_tracks): \n",
    "    # Only those particles with greater than 3 hits should be reconstructible\n",
    "    for i, track in particles.items():\n",
    "        if (len(track) <3):\n",
    "            particles.drop(labels=i, inplace=True)\n",
    "    \n",
    "    for a,b in zip(particles, reconstructed_tracks):\n",
    "        # sort the arrays numerically\n",
    "        a.sort()\n",
    "        b.sort()\n",
    "\n",
    "    good_tracks=0\n",
    "    cloned=0\n",
    "    # iterate over particles\n",
    "    for particle in particles:\n",
    "    # iterate over tracks reconstructed\n",
    "        clones = 0\n",
    "        for track in reconstructed_tracks:\n",
    "            # check element wise equality between arrays \n",
    "            #if np.array_equal(particle, track):\n",
    "            #   good_tracks=good_tracks+1\n",
    "        \n",
    "            if ((len(np.intersect1d(track, particle))/ len(particle))>=0.7):\n",
    "                # np.intersect1d returns the sorted, unique values that are in both of the input arrays. \n",
    "                good_tracks=good_tracks+1  \n",
    "                clones = clones+1\n",
    "        if clones>1:\n",
    "            cloned = cloned+(clones-1) \n",
    "            # Only count one of the good tracks with good overlap\n",
    "            good_tracks = good_tracks - (clones-1)\n",
    "    \n",
    "    efficiency = good_tracks/len(particles)  \n",
    "    fake = (len(reconstructed_tracks)-good_tracks)/len(reconstructed_tracks)\n",
    "    clone_rate = cloned/len(reconstructed_tracks)\n",
    "    return {'efficiency':efficiency, 'fake_rate':fake, 'clone_rate':clone_rate}"
   ]
  },
  {
   "cell_type": "code",
   "execution_count": null,
   "metadata": {},
   "outputs": [],
   "source": []
  },
  {
   "cell_type": "code",
   "execution_count": null,
   "metadata": {},
   "outputs": [],
   "source": []
  },
  {
   "cell_type": "code",
   "execution_count": null,
   "metadata": {},
   "outputs": [],
   "source": [
    "# The help to construc FilteringTracks is to see the Score Function. \n",
    "# \n",
    "# "
   ]
  },
  {
   "cell_type": "code",
   "execution_count": null,
   "metadata": {},
   "outputs": [],
   "source": [
    "def FilteringTracks(real_tracks, tracks):\n",
    "    global df\n",
    "    # Only those particles with greater than 3 hits should be reconstructible\n",
    "    for i, track in particles.items():\n",
    "        if (len(track) <3):\n",
    "            particles.drop(labels=i, inplace=True)\n",
    "    \n",
    "    for a,b in zip(particles, reconstructed_tracks):\n",
    "        # sort the arrays numerically\n",
    "        a.sort()\n",
    "        b.sort()\n",
    "\n",
    "    good_tracks=0\n",
    "    cloned=0\n",
    "    # iterate over particles\n",
    "    for particle in particles:\n",
    "    # iterate over tracks reconstructed\n",
    "        clones = 0\n",
    "        for track in reconstructed_tracks:\n",
    "            # check element wise equality between arrays \n",
    "            #if np.array_equal(particle, track):\n",
    "            #   good_tracks=good_tracks+1\n",
    "        \n",
    "            if ((len(np.intersect1d(track, particle))/ len(particle))>=0.7):\n",
    "                # np.intersect1d returns the sorted, unique values that are in both of the input arrays. \n",
    "                good_tracks=good_tracks+1  \n",
    "                clones = clones+1\n",
    "        if clones>1:\n",
    "            cloned = cloned+(clones-1) \n",
    "            # Only count one of the good tracks with good overlap\n",
    "            good_tracks = good_tracks - (clones-1)\n",
    "    \n",
    "    efficiency = good_tracks/len(particles)  \n",
    "    fake = (len(reconstructed_tracks)-good_tracks)/len(reconstructed_tracks)\n",
    "    clone_rate = cloned/len(reconstructed_tracks)\n",
    "   \n",
    "    return fake_tracks"
   ]
  },
  {
   "cell_type": "code",
   "execution_count": null,
   "metadata": {},
   "outputs": [],
   "source": []
  },
  {
   "cell_type": "code",
   "execution_count": null,
   "metadata": {},
   "outputs": [],
   "source": []
  },
  {
   "cell_type": "code",
   "execution_count": 14,
   "metadata": {},
   "outputs": [],
   "source": [
    "import numpy as np\n",
    "thetaScatter = 0.1 # a global parameter"
   ]
  },
  {
   "cell_type": "code",
   "execution_count": 35,
   "metadata": {},
   "outputs": [],
   "source": [
    "def dr(delta, dx, dy, dz): \n",
    "    global theta_scatt\n",
    "    dr1 = 3*np.sqrt(dx*dx + dy*dy + dz*dz)\n",
    "    dr2 = delta*np.tan(thetaScatter)  \n",
    "    return max(dr1, dr2)"
   ]
  },
  {
   "cell_type": "code",
   "execution_count": null,
   "metadata": {},
   "outputs": [],
   "source": []
  },
  {
   "cell_type": "markdown",
   "metadata": {},
   "source": [
    "I've been thinking about this, perhaps it's better to not assume that(all particle comming from origin). You could calculate things relative to the first module of your prototrack as this gives you a well defined z coordinate \n",
    "\n",
    "You can then easily calculate the travel time between modules "
   ]
  },
  {
   "cell_type": "markdown",
   "metadata": {},
   "source": [
    "# Computing the values of theta"
   ]
  },
  {
   "cell_type": "code",
   "execution_count": 20,
   "metadata": {},
   "outputs": [],
   "source": [
    "def dphi(x, y, dx, dy):\n",
    "    return (dy* x - dx *y)/(x**2 + y**2)"
   ]
  },
  {
   "cell_type": "code",
   "execution_count": 21,
   "metadata": {},
   "outputs": [],
   "source": [
    "def dtheta(dz0, x, x0, y, y0, z, z0):\n",
    "    return dz0 * np.sqrt((x - x0)**2 + (y - y0)**2)/((x - x0)**2 + (y - y0)**2 + (z - z0)**2)"
   ]
  },
  {
   "cell_type": "code",
   "execution_count": 18,
   "metadata": {},
   "outputs": [
    {
     "data": {
      "text/plain": [
       "0.023570226039551587"
      ]
     },
     "execution_count": 18,
     "metadata": {},
     "output_type": "execute_result"
    }
   ],
   "source": [
    "dtheta(dz0=0.1, x=1, x0=2, y=2, y0=1, z=3, z0=1)"
   ]
  }
 ],
 "metadata": {
  "kernelspec": {
   "display_name": "Python 3",
   "language": "python",
   "name": "python3"
  },
  "language_info": {
   "codemirror_mode": {
    "name": "ipython",
    "version": 3
   },
   "file_extension": ".py",
   "mimetype": "text/x-python",
   "name": "python",
   "nbconvert_exporter": "python",
   "pygments_lexer": "ipython3",
   "version": "3.7.3"
  }
 },
 "nbformat": 4,
 "nbformat_minor": 2
}
