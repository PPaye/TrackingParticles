{
 "cells": [
  {
   "cell_type": "markdown",
   "metadata": {},
   "source": [
    "# CLUSTER ANALYSIS \n",
    "# A simple implementation of DBSCAN in Python "
   ]
  },
  {
   "cell_type": "code",
   "execution_count": 4,
   "metadata": {},
   "outputs": [
    {
     "ename": "ModuleNotFoundError",
     "evalue": "No module named 'dbscan'",
     "output_type": "error",
     "traceback": [
      "\u001b[0;31m---------------------------------------------------------------------------\u001b[0m",
      "\u001b[0;31mModuleNotFoundError\u001b[0m                       Traceback (most recent call last)",
      "\u001b[0;32m<ipython-input-4-027dfd050c87>\u001b[0m in \u001b[0;36m<module>\u001b[0;34m\u001b[0m\n\u001b[1;32m     14\u001b[0m \u001b[0;32mfrom\u001b[0m \u001b[0msklearn\u001b[0m\u001b[0;34m.\u001b[0m\u001b[0mpreprocessing\u001b[0m \u001b[0;32mimport\u001b[0m \u001b[0mStandardScaler\u001b[0m\u001b[0;34m\u001b[0m\u001b[0;34m\u001b[0m\u001b[0m\n\u001b[1;32m     15\u001b[0m \u001b[0;34m\u001b[0m\u001b[0m\n\u001b[0;32m---> 16\u001b[0;31m \u001b[0;32mfrom\u001b[0m \u001b[0mdbscan\u001b[0m \u001b[0;32mimport\u001b[0m \u001b[0mMyDBSCAN\u001b[0m\u001b[0;34m\u001b[0m\u001b[0;34m\u001b[0m\u001b[0m\n\u001b[0m\u001b[1;32m     17\u001b[0m \u001b[0;34m\u001b[0m\u001b[0m\n\u001b[1;32m     18\u001b[0m \u001b[0;31m# Create three gaussian blobs to use as our clustering data.\u001b[0m\u001b[0;34m\u001b[0m\u001b[0;34m\u001b[0m\u001b[0;34m\u001b[0m\u001b[0m\n",
      "\u001b[0;31mModuleNotFoundError\u001b[0m: No module named 'dbscan'"
     ]
    }
   ],
   "source": [
    "# -*- coding: utf-8 -*-\n",
    "\"\"\"\n",
    "This script is used to validate that my implementation of DBSCAN produces\n",
    "the same results as the implementation found in scikit-learn.\n",
    "It's based on the scikit-learn example code, here:\n",
    "http://scikit-learn.org/stable/auto_examples/cluster/plot_dbscan.html    \n",
    "@author: Chris McCormick\n",
    "\n",
    "source : https://github.com/chrisjmccormick/dbscan/blob/master/scikit-dbscan-example.py\n",
    "\"\"\"\n",
    "\n",
    "from sklearn.datasets.samples_generator import make_blobs\n",
    "from sklearn.cluster import DBSCAN\n",
    "from sklearn.preprocessing import StandardScaler\n",
    "\n",
    "from dbscan import MyDBSCAN\n",
    "\n",
    "# Create three gaussian blobs to use as our clustering data.\n",
    "centers = [[1, 1], [-1, -1], [1, -1]]\n",
    "X, labels_true = make_blobs(n_samples=750, centers=centers, cluster_std=0.4,\n",
    "                            random_state=0)\n",
    "\n",
    "X = StandardScaler().fit_transform(X)\n",
    "\n",
    "###############################################################################\n",
    "# My implementation of DBSCAN\n",
    "#\n",
    "\n",
    "# Run my DBSCAN implementation.\n",
    "print( 'Running my implementation...')\n",
    "my_labels = MyDBSCAN(X, eps=0.3, MinPts=10)\n",
    "\n",
    "###############################################################################\n",
    "# Scikit-learn implementation of DBSCAN\n",
    "#\n",
    "\n",
    "print('Runing scikit-learn implementation...')\n",
    "db = DBSCAN(eps=0.3, min_samples=10).fit(X)\n",
    "skl_labels = db.labels_\n",
    "\n",
    "# Scikit learn uses -1 to for NOISE, and starts cluster labeling at 0. I start\n",
    "# numbering at 1, so increment the skl cluster numbers by 1.\n",
    "for i in range(0, len(skl_labels)):\n",
    "    if not skl_labels[i] == -1:\n",
    "        skl_labels[i] += 1\n",
    "\n",
    "\n",
    "###############################################################################\n",
    "# Did we get the same results?\n",
    "\n",
    "num_disagree = 0\n",
    "\n",
    "# Go through each label and make sure they match (print the labels if they \n",
    "# don't)\n",
    "for i in range(0, len(skl_labels)):\n",
    "    if not skl_labels[i] == my_labels[i]:\n",
    "        print('Scikit learn:', skl_labels[i], 'mine:', my_labels[i])\n",
    "        num_disagree += 1\n",
    "\n",
    "if num_disagree == 0:\n",
    "    print('PASS - All labels match!')\n",
    "else:\n",
    "    print('FAIL -', num_disagree, 'labels don\\'t match.'  )      "
   ]
  },
  {
   "cell_type": "code",
   "execution_count": null,
   "metadata": {},
   "outputs": [],
   "source": []
  }
 ],
 "metadata": {
  "kernelspec": {
   "display_name": "Python 3",
   "language": "python",
   "name": "python3"
  },
  "language_info": {
   "codemirror_mode": {
    "name": "ipython",
    "version": 3
   },
   "file_extension": ".py",
   "mimetype": "text/x-python",
   "name": "python",
   "nbconvert_exporter": "python",
   "pygments_lexer": "ipython3",
   "version": "3.7.3"
  }
 },
 "nbformat": 4,
 "nbformat_minor": 2
}
