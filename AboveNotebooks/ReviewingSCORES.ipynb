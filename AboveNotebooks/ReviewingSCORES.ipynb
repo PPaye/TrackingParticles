{
 "cells": [
  {
   "cell_type": "markdown",
   "metadata": {},
   "source": [
    "# In this notebook I review the scores obtained by MANUEL JAHN\n",
    "In general, the score is a mixed measure betweem efficiency, ghost rate and fake rate. \n",
    "So, it is possible that we can choose different metrics. Here I compute a generic metric. "
   ]
  },
  {
   "cell_type": "code",
   "execution_count": 8,
   "metadata": {},
   "outputs": [],
   "source": [
    "def score1(efficiency, ghost_rate):\n",
    "    return efficiency*(1 - ghost_rate)**2 \n",
    "def score2(efficiency, ghost_rate, clone_rate):\n",
    "    return efficiency*(1 - ghost_rate - clone_rate)**2"
   ]
  },
  {
   "cell_type": "markdown",
   "metadata": {},
   "source": [
    "# Studies on the SUPER VELO\n",
    "MANUEL JAHN"
   ]
  },
  {
   "cell_type": "markdown",
   "metadata": {},
   "source": [
    "## The dream Scenario"
   ]
  },
  {
   "cell_type": "code",
   "execution_count": 9,
   "metadata": {},
   "outputs": [
    {
     "name": "stdout",
     "output_type": "stream",
     "text": [
      "score:  0.4826500000000001\n"
     ]
    }
   ],
   "source": [
    "# Unoptimized\n",
    "ghost_rate = 27.9*0.01\n",
    "efficiency = 98.5*0.01\n",
    "clone_rate = 2.1*0.01\n",
    "print(\"score: \", score2(efficiency, ghost_rate, clone_rate))"
   ]
  },
  {
   "cell_type": "code",
   "execution_count": 10,
   "metadata": {},
   "outputs": [
    {
     "name": "stdout",
     "output_type": "stream",
     "text": [
      "score:  0.8373327399999998\n"
     ]
    }
   ],
   "source": [
    "# Set. 4\n",
    "ghost_rate = 3.4*0.01\n",
    "efficiency = 98.5*0.01\n",
    "clone_rate = 4.4*0.01\n",
    "print(\"score: \", score2(efficiency, ghost_rate, clone_rate))"
   ]
  },
  {
   "cell_type": "code",
   "execution_count": 11,
   "metadata": {},
   "outputs": [
    {
     "name": "stdout",
     "output_type": "stream",
     "text": [
      "score:  0.827883216\n"
     ]
    }
   ],
   "source": [
    "# Set. 3\n",
    "ghost_rate = 1.9*0.01\n",
    "efficiency = 97.6*0.01\n",
    "clone_rate = 6*0.01\n",
    "print(\"score: \", score2(efficiency, ghost_rate, clone_rate))"
   ]
  },
  {
   "cell_type": "code",
   "execution_count": null,
   "metadata": {},
   "outputs": [],
   "source": []
  }
 ],
 "metadata": {
  "kernelspec": {
   "display_name": "Python 3",
   "language": "python",
   "name": "python3"
  },
  "language_info": {
   "codemirror_mode": {
    "name": "ipython",
    "version": 3
   },
   "file_extension": ".py",
   "mimetype": "text/x-python",
   "name": "python",
   "nbconvert_exporter": "python",
   "pygments_lexer": "ipython3",
   "version": "3.7.3"
  }
 },
 "nbformat": 4,
 "nbformat_minor": 2
}
